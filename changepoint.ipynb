{
 "cells": [
  {
   "cell_type": "code",
   "execution_count": 52,
   "metadata": {},
   "outputs": [],
   "source": [
    "import random\n",
    "import matplotlib.pyplot as plt\n",
    "import math\n",
    "import numpy as np\n",
    "import json\n",
    "import os\n",
    "from time import time"
   ]
  },
  {
   "attachments": {},
   "cell_type": "markdown",
   "metadata": {},
   "source": [
    "# Question 1\n",
    "\n",
    "Simulate a time series with $n = 500$ realisations distributed according to a probability law $L$ of your choice. This time series must have $K^∗ ≥ 2$ changes in one or more dimensions of the parameters of $L$ (you set the value of $K^∗$ as you wish). Plot this time series."
   ]
  },
  {
   "attachments": {},
   "cell_type": "markdown",
   "metadata": {},
   "source": [
    "## Answer 1\n",
    "\n",
    "We choose an Exponential distribution for the time series simulation, the code below shows the function `expovariate`, which crate functions that generates random values of exponential distibution with mean $ \\lambda = l$. "
   ]
  },
  {
   "cell_type": "code",
   "execution_count": 2,
   "metadata": {},
   "outputs": [],
   "source": [
    "def expovariate(l):\n",
    "    return lambda : random.expovariate(l)"
   ]
  },
  {
   "cell_type": "code",
   "execution_count": 3,
   "metadata": {},
   "outputs": [],
   "source": [
    "#Lets initialize 3 functions exp_1, exp_4 and exp_5, using expovariate in order to get funcions that generate \n",
    "#random values of exponential distribution with lambdas = 1,4,5 respectively\n",
    "\n",
    "exp_1 = expovariate(1)\n",
    "exp_4 = expovariate(4)\n",
    "exp_5 = expovariate(5)"
   ]
  },
  {
   "cell_type": "code",
   "execution_count": 4,
   "metadata": {},
   "outputs": [],
   "source": [
    "#Given the times sires inteval, the moments of the change points and the distibution function for gerate the values \n",
    "# in each segment of the time series, this function returns the time series simulated\n",
    "\n",
    "def generate_time_series(interval,\n",
    "                         change_points,\n",
    "                         distributions):\n",
    "    time_series = []\n",
    "    points =  [interval[0]] + change_points + [interval[1]]\n",
    "    for p in range(len(distributions)):\n",
    "        point_left = points[p]\n",
    "        point_right = points[p + 1]\n",
    "        for _ in range(point_left, point_right, 1):\n",
    "            time_series.append(distributions[p]())\n",
    "    return time_series\n"
   ]
  },
  {
   "cell_type": "code",
   "execution_count": 5,
   "metadata": {},
   "outputs": [],
   "source": [
    "#Given time series, this function plots the times series, if change points are also given then includes gray dashed lines on \n",
    "#change points and if the aproximation values for change points are given too, plots red dashed lines on those\n",
    "#values too\n",
    "\n",
    "def plot_time_series(time_series, change_points= None, approx_change_points= None):\n",
    "    plt.plot(range(len(time_series)), time_series, '.', color= 'black')\n",
    "    min_point = min(time_series)\n",
    "    max_point = max(time_series)\n",
    "    if change_points is not None:\n",
    "        for change_point in change_points:\n",
    "            plt.vlines(change_point, min_point, max_point, colors= 'gray', linestyles='dashed')\n",
    "    if approx_change_points is not None:\n",
    "        for change_point in approx_change_points:\n",
    "            plt.vlines(change_point, min_point, max_point, colors= 'red', linestyles='dashed')\n",
    "    plt.show()"
   ]
  },
  {
   "attachments": {},
   "cell_type": "markdown",
   "metadata": {},
   "source": [
    "Now let's generate a time serie on time interval $[0; 500]$, and let's add 3 change points on $200$, $250$ and $350$, for that we generate random exponentialy distributed values, using the previously defined functions exp_1, exp2 adn exp_3, getting $4$ intervals $[0; 200)$, $[200,250)$, $[250;350)$ and $[350,500]$ with values coresponding to exponential distributions with $\\lambda = 1,5,1,4$ respectively using `generate_time_series` function. Finally we plot the resulting time series and the real change points moments with `plot_time_series` function."
   ]
  },
  {
   "cell_type": "code",
   "execution_count": 6,
   "metadata": {},
   "outputs": [],
   "source": [
    "# ALERTA!!!!\n",
    "# Si desea generar un nuevo conjunto de datos descomente el siguiente codigo\n",
    "# Esto generaria una nueva serie del tiempo, y todas las imagenes de los resultados actuales cambiarian\n",
    "# Le recomendamos utilizar el conjunto de ejemplo generado con el que se redacto el informe\n",
    "\n",
    "#################################\n",
    "# Generar nueva serie de tiempo #\n",
    "#################################\n",
    "\n",
    "# interval = (0, 500)\n",
    "# change_points = [200, 250, 350]\n",
    "# distributions = [exp_1, exp_5, exp_1, exp_4]\n",
    "# time_series = generate_time_series(interval, change_points, distributions)\n",
    "# with open('example.json', 'w') as fp:\n",
    "#     json.dump(time_series, fp)\n",
    "\n",
    "#########################################\n",
    "# Utilizar la serie de tiempo propuesta #\n",
    "#########################################\n",
    "\n",
    "change_points = [200, 250, 350]\n",
    "with open('example.json', 'r') as fp:\n",
    "    change_points = json.load(fp)"
   ]
  },
  {
   "cell_type": "code",
   "execution_count": 21,
   "metadata": {},
   "outputs": [
    {
     "data": {
      "image/png": "[encoded data removed]",
      "text/plain": [
       "<Figure size 640x480 with 1 Axes>"
      ]
     },
     "metadata": {},
     "output_type": "display_data"
    }
   ],
   "source": [
    "plot_time_series(change_points, change_points)"
   ]
  },
  {
   "attachments": {},
   "cell_type": "markdown",
   "metadata": {},
   "source": [
    "# Question 2\n",
    "\n",
    "Derive a cost function that is appropriate for the data simulated in Question 1. Briefly justify your choice (in a comment in your code)."
   ]
  },
  {
   "attachments": {},
   "cell_type": "markdown",
   "metadata": {},
   "source": [
    "## Answer 2\n",
    "\n",
    "\n",
    "Assuming the fact that time series has exponential distribution is known, but the mean($\\lambda$) of the distribution on each interval, splitted by change points, is not known. Then we are going to use the negative logarithm of likelihood function. Let's start finding those $\\lambda$ values, for which the value of this function is minimal, keeping constant $y_i$ (value of time series at instant $i$) values for all  $0 < i \\le n$. Note that find the minimum value, is equivalent to find the maximum in the possitive function, and that can be done finding the **maximum likelihood estimator**. Given $y_i$, we must maximice:\n",
    "\n",
    "<!-- Supongamos que sabemos que los puntos simulados tienen distribución exponencial pero no sabemos con qué parámetro $\\lambda$, para cada uno de los intervalos entre `CP` y `CP`. Para ello utilizaremos como función de costo el logaritmo negativo de la función de verosímilitud. Pero antes debemos hallar para qué valor de $\\lambda$ este valor es mínimo manteniendo constante los valores de $y_i$ para todo $0 < i \\le n$. Note que hallar el valor mínimo es equivalente a hallar el valor máximo de la misma función positiva, lo cual sería el método del máximo verosímil. Dada cada $y_i$, debemos maximizar: -->\n",
    "\n",
    "$$ L(\\lambda | y_1...y_n) = Π_{i=1}^n \\lambda e^{-\\lambda y_i}  = \\lambda^n e^{-\\lambda \\sum_{i = 1}^{n} y_i} $$\n",
    "\n",
    "Which is equivalent to maximice:\n",
    "<!-- Sin embargo esto es equivalente a maximizar: -->\n",
    "\n",
    "$$ \\ln(\\lambda^n e^{-\\lambda \\sum_{i = 1}^{n} y_i}) = \\ln(\\lambda^n) + \\ln(e^{-\\lambda \\sum_{i = 1}^{n} y_i}) = n\\ln(\\lambda) -\\lambda \\sum_{i = 1}^{n} y_i $$\n",
    "\n",
    "At last we derive and make the function equal $0$, in order to find such value:\n",
    "<!-- Por último derivamos e igualamos a $0$ para encontrar este valor: -->\n",
    "\n",
    "$$ 0 = \\frac{dL(n\\ln(\\lambda) -\\lambda \\sum_{i = 1}^{n} y_i)}{d\\lambda} = \\frac{n}{\\lambda} - \\sum_{i = 1}^{n} y_i$$\n",
    "\n",
    "Finally we get the estimated expression value of $\\lambda$:\n",
    "<!-- Y finalmente obtenemos que el valor estimado de $\\lambda$ es: -->\n",
    "\n",
    "$$ \\lambda_{MLE} = \\frac{n}{\\sum_{i = 1}^{n} y_i}$$\n",
    "\n",
    "With the estimated $\\lambda$, we go back on our possitive cost function and replace $\\lambda$ expression on it:\n",
    "<!-- Ahora bien, estimado $\\lambda$ regresamos a nuestra función de costo versión positiva y sustituimos obteniendo: -->\n",
    "\n",
    "$$ n\\log(\\lambda_{MLE}) -\\lambda_{MLE} \\sum_{i = 1}^{n} y_i = n\\log \\left(\\frac{n}{\\sum_{i = 1}^{n} y_i} \\right) - \\frac{n}{\\sum_{i = 1}^{n} y_i} \\sum_{i = 1}^{n} y_i$$ \n",
    "$$ = n\\log \\left(\\frac{n}{\\sum_{i = 1}^{n} y_i} \\right) - n = n \\left(\\log \\left(\\frac{n}{\\sum_{i = 1}^{n} y_i} \\right) - 1\\right) $$\n",
    "\n",
    "But, the purpose of this in the end is minimaze this value at the change points, so we need to work with the opposite, the negative of this function, the original cost function, so it is:\n",
    "<!-- Pero como lo que queremos es minimizar más adelante con nuestros algoritmos de búsqueda de puntos de ruptura, lo que haremos es trabajar con el opuesto de este, lo que quedaría: -->\n",
    "\n",
    "$$ n \\left(1 - \\log \\left(\\frac{n}{\\sum_{i = 1}^{n} y_i} \\right) \\right) $$\n",
    "\n",
    "Let's rename this cost function for an easier aplication on intervals $[a;b]$ of time series:\n",
    "<!-- Para formalizar más la función de costo, utilizaremos la notación: -->\n",
    "\n",
    "$$ c(y_{a:b}) = n \\left(1 - \\log \\left(\\frac{n}{\\sum_{i = a}^{b} y_i} \\right) \\right) $$\n",
    "\n",
    "donde $n = b-a+1$."
   ]
  },
  {
   "cell_type": "code",
   "execution_count": 8,
   "metadata": {},
   "outputs": [],
   "source": [
    "#Function that given the values on an interval if time series compute the cost function for the interval\n",
    "def cost_funtion_exp(points):\n",
    "    n = len(points)\n",
    "    if n == 0:\n",
    "        return 0     \n",
    "    return n * (1 - math.log(n / sum(points)))"
   ]
  },
  {
   "attachments": {},
   "cell_type": "markdown",
   "metadata": {},
   "source": [
    "# Question 3\n",
    "\n",
    "Implement the optimal partition algorithm and test it on the data simulated in question 1."
   ]
  },
  {
   "attachments": {},
   "cell_type": "markdown",
   "metadata": {},
   "source": [
    "## Answer 3\n",
    "\n",
    "The following code is an imoplementation of  `Optimal Partition` algorithm, it receives as data:\n",
    "\n",
    "- The time series\n",
    "- The cost function\n",
    "- The amount on change points"
   ]
  },
  {
   "cell_type": "code",
   "execution_count": 9,
   "metadata": {},
   "outputs": [],
   "source": [
    "def OptimalPartition(points, cost_func, K):\n",
    "\n",
    "    n = len(points)\n",
    "    Ms = np.zeros((K,n,n)) #Initialize the arrays\n",
    "    for u in range(n):\n",
    "        for v in range(n):\n",
    "            if u < v:\n",
    "                Ms[0][u][v] = cost_func(points[u:v+1]) #The initial values (base case) of dp\n",
    "\n",
    "    if K > 1: #Fill the arrays using dp \n",
    "        for k in range(1, K):\n",
    "            for u in range(n):\n",
    "                for v in range(n):\n",
    "                    if v-u > k+1:\n",
    "                        Ms[k][u][v] = min([Ms[k-1][u][t] + Ms[0][t+1][v] for t in range(u+k-1, v)])\n",
    "    L = np.zeros((K+1), dtype=int) #List of change points    \n",
    "    L[K] = n-1  \n",
    "    k = K\n",
    "    while k > 0: #Find the change points using the pre-computed values on dp arrays \n",
    "        s = L[k]        \n",
    "        ts = [Ms[k-1][0][t] + Ms[0][t+1][s] for t in range(k, s)]\n",
    "        ts_min =  min(ts)\n",
    "        t_index = ts.index(ts_min)\n",
    "        L[k-1] = t_index\n",
    "        k= k -1\n",
    "    return L[:-1]\n",
    "    "
   ]
  },
  {
   "attachments": {},
   "cell_type": "markdown",
   "metadata": {},
   "source": [
    "We then use the `OptimalPartition` algorithm to predict the change points on teh previously simulated data, the results are shown below."
   ]
  },
  {
   "cell_type": "code",
   "execution_count": 22,
   "metadata": {},
   "outputs": [
    {
     "data": {
      "text/plain": [
       "array([198, 248, 345])"
      ]
     },
     "execution_count": 22,
     "metadata": {},
     "output_type": "execute_result"
    }
   ],
   "source": [
    "approx_change_points_OP = OptimalPartition(change_points, cost_funtion_exp, 3)\n",
    "approx_change_points_OP"
   ]
  },
  {
   "cell_type": "code",
   "execution_count": 23,
   "metadata": {},
   "outputs": [
    {
     "data": {
      "image/png": "[encoded data removed]",
      "text/plain": [
       "<Figure size 640x480 with 1 Axes>"
      ]
     },
     "metadata": {},
     "output_type": "display_data"
    }
   ],
   "source": [
    "plot_time_series(change_points, change_points, approx_change_points_OP)"
   ]
  },
  {
   "attachments": {},
   "cell_type": "markdown",
   "metadata": {},
   "source": [
    "# Question 4\n",
    "\n",
    "Implement the PELT algorithm and test it using the data simulated in question 1. You will set the value of the penalty weight as $log(n)$."
   ]
  },
  {
   "attachments": {},
   "cell_type": "markdown",
   "metadata": {},
   "source": [
    "## Answer 4\n",
    "\n",
    "For `PELT` algorithm implementation, we bese our implementation on Conference's notes and the article **\"Killick, R., Fearnhead, P., & Eckley, I. A. (2012, oct). Optimal detection of changepoints with a linear computational cost. Journal of the American Statistical Association\"**. Is important to note that `PELT` uses the **Theorem 3.1** to rule out possible change points. This theorem expresses the following: \n",
    "\n",
    "<!-- A continuación se hace una implementación del algoritmo `PELT`. Nos basamos tanto en la implementación de Conferencia como la explicada en el artículo **\"Killick, R., Fearnhead, P., & Eckley, I. A. (2012, oct). Optimal detection of changepoints with a linear computational cost. Journal of the American Statistical Association\"**. Es importante señalar que PELT hace uso del **Teorema 3.1** de este artículo para descarta posibles puntos de cambios. Este Teorema expresa lo siguiente: -->\n",
    "\n",
    "*Theorem 3.1*: We assume that when introducing a changepoint into a sequence of observations, the cost, $C$, of the sequence reduces. More formally, we assume there exists a constant $K$ such that for all $t < s <T$.\n",
    "\n",
    "Then pseudo-code of our algorithm looks like:\n",
    "<!-- Luego el pseudocódigo de nuestro algoritmo sería: -->\n",
    "\n",
    "**Input**:\n",
    "- `data` $= \\{y_1,...,y_n\\}$: set of points\n",
    "- $c(.)$: cost function\n",
    "- $\\beta$: penalty cost\n",
    "- `K`: constant that satisfies **Theorem 3.1**\n",
    "- $n_{min}$: minimal interval size\n",
    "\n",
    "**Initializations**:\n",
    "- `F` = $(-\\beta,..., n_{min}-1 = -\\beta, 0,...,0)$: array of size `n`\n",
    "- `R` = $\\{0\\}$: initial set of possible change points\n",
    "- `CP` = $(0,...,0)$: array de puntos de cambios asociados a cada dato\n",
    "\n",
    "**Pseudo-Code**:\n",
    "\n",
    "- **for all** $t^* = n_{min},..., n-1$:  \n",
    "    - $F[\\widetilde{ t }] = \\min_{t \\in R  ~ \\backslash ~ |\\widetilde{ t }-t| \\ge n_{min} }\\{F(t) + c(y_{t:\\widetilde{ t }})+ \\beta\\}$\n",
    "    - $\\overline{t} = \\argmin_{t \\in R  ~ \\backslash ~ |\\widetilde{ t }-t| \\ge n_{min} }\\{F(t) + c(y_{t:\\widetilde{ t }-1})+ \\beta\\}$\n",
    "    - $ CP[\\widetilde{ t }] = \\overline{t} $\n",
    "    - $ R^* = \\{ \\widetilde{ t } \\} \\cup \\{ t \\in R ~ \\backslash ~ F[t] + c(y_{t:\\widetilde{ t }-1}) + K < F[\\widetilde{ t }]\\} $\n",
    "    - $ R = R^*$\n",
    "- **end for**\n",
    "- `last = CP[n-1]`\n",
    "- **while** `last != 0` :\n",
    "    - **add** `last` **to** `changes_points`\n",
    "    - `last = CP[last]`\n",
    "- **end while**  \n",
    "\n",
    "**Output**\n",
    "- `change_points`: Change Points"
   ]
  },
  {
   "cell_type": "code",
   "execution_count": 12,
   "metadata": {},
   "outputs": [],
   "source": [
    "def PELT(points, cost_func, penalty= None, n_min=0, K= 0):\n",
    "\n",
    "    n = len(points)\n",
    "    F = np.zeros(n, np.float32)\n",
    "\n",
    "    if penalty is None:\n",
    "        penalty = np.log(n)\n",
    "\n",
    "    for i in range(n_min):\n",
    "        F[i] = - penalty\n",
    "    CP = np.zeros(n, np.int32)\n",
    "    R = np.array([0], dtype=np.int32)\n",
    "\n",
    "    for t_accent in range(n_min, n):\n",
    "        \n",
    "        np.array(F[t_accent])         \n",
    "        interval_costs = np.zeros(R.shape[0], np.float32)\n",
    "        interval_costs_pen = []\n",
    "        for i, change_point_cand in enumerate(R):            \n",
    "            interval_costs[i] = F[change_point_cand] + cost_func(points[change_point_cand: t_accent])\n",
    "            if abs(R[i] - t_accent) >= n_min:\n",
    "                interval_costs_pen.append((interval_costs[i] + penalty, R[i]))\n",
    "\n",
    "        F[t_accent], CP[t_accent] = min(interval_costs_pen)\n",
    "        \n",
    "        R_new = []\n",
    "        for i, val in enumerate(interval_costs):\n",
    "            if val + K < F[t_accent]:\n",
    "                R_new.append(R[i])\n",
    "        R_new.append(t_accent)\n",
    "        R = np.array(R_new, dtype=np.int32)\n",
    "\n",
    "    finals_CP = []\n",
    "    last = CP[-1]\n",
    "    while last > 0:\n",
    "        finals_CP.append(last)\n",
    "        last = CP[last]\n",
    "    finals_CP.reverse()\n",
    "    return finals_CP"
   ]
  },
  {
   "attachments": {},
   "cell_type": "markdown",
   "metadata": {},
   "source": [
    "We then use the `PELT` algorithm to predict the changepoints on the previously simulated data, and we take as:\n",
    "\n",
    "- $\\beta = \\log(n)$\n",
    "- $K = 0$ because like the article says, that is the value which satisfiesl **Theorem 3.1**\n",
    "\n",
    "The results are shown below. "
   ]
  },
  {
   "cell_type": "code",
   "execution_count": 30,
   "metadata": {},
   "outputs": [
    {
     "data": {
      "text/plain": [
       "[200, 251, 349]"
      ]
     },
     "execution_count": 30,
     "metadata": {},
     "output_type": "execute_result"
    }
   ],
   "source": [
    "approx_change_points_PELT = PELT(change_points, cost_funtion_exp, n_min=10)\n",
    "approx_change_points_PELT"
   ]
  },
  {
   "cell_type": "code",
   "execution_count": 31,
   "metadata": {},
   "outputs": [
    {
     "data": {
      "image/png": "[encoded data removed]",
      "text/plain": [
       "<Figure size 640x480 with 1 Axes>"
      ]
     },
     "metadata": {},
     "output_type": "display_data"
    }
   ],
   "source": [
    "plot_time_series(change_points, change_points, approx_change_points_PELT)"
   ]
  },
  {
   "attachments": {},
   "cell_type": "markdown",
   "metadata": {},
   "source": [
    "# Question 5\n",
    "\n",
    "Test the PELT algorithm with other values of the penalty weight. Comment the results."
   ]
  },
  {
   "attachments": {},
   "cell_type": "markdown",
   "metadata": {},
   "source": [
    "## Answer 5\n",
    "\n",
    "Turning to choice of penalty, in practice by far the most common choice is one which is linear in the number of changepoints. Examples of such penalties include Akaike’s Information Criterion (AIC) where $\\beta = 2p$ and Schwarz Information Criterion (SIC also known as BIC) where $\\beta = p\\log n$; $p$ is the\n",
    "number of additional parameters introduced by adding a changepoint and $n$ is the size of time series. [Killick, R., Fearnhead, P. and Eckley, I.A. \"Optimal detection of changepoints with a linear\n",
    "computational cost\". October 10, 2012.]\n",
    "\n",
    "For a model with 1 parameter fit per segment, each change point adds two parameters to the model (1 for the segment parameter and 1 for the new change point). It means that $p =2$. "
   ]
  },
  {
   "cell_type": "code",
   "execution_count": 15,
   "metadata": {},
   "outputs": [],
   "source": [
    "def BIC(p,n):\n",
    "    return p * np.log(n)\n",
    "\n",
    "def AIC(p):\n",
    "    return 2*p"
   ]
  },
  {
   "cell_type": "code",
   "execution_count": 26,
   "metadata": {},
   "outputs": [],
   "source": [
    "bic  = BIC(2,len(change_points))\n",
    "aic  = AIC(2)"
   ]
  },
  {
   "cell_type": "code",
   "execution_count": 27,
   "metadata": {},
   "outputs": [
    {
     "name": "stdout",
     "output_type": "stream",
     "text": [
      "penalty AIC =  [200, 251, 349]\n",
      "penalty BIC =  [200, 251, 349]\n"
     ]
    }
   ],
   "source": [
    "approx_change_points_PELT_aic = PELT(change_points, cost_funtion_exp, penalty= aic, n_min=10)\n",
    "print(\"penalty AIC = \",  approx_change_points_PELT_aic)\n",
    "\n",
    "approx_change_points_PELT_bic = PELT(change_points, cost_funtion_exp, penalty= bic, n_min=10)\n",
    "print(\"penalty BIC = \",  approx_change_points_PELT_bic)"
   ]
  },
  {
   "cell_type": "code",
   "execution_count": 28,
   "metadata": {},
   "outputs": [
    {
     "data": {
      "image/png": "[encoded data removed]",
      "text/plain": [
       "<Figure size 640x480 with 1 Axes>"
      ]
     },
     "metadata": {},
     "output_type": "display_data"
    }
   ],
   "source": [
    "plot_time_series(change_points, change_points, approx_change_points_PELT_aic)"
   ]
  },
  {
   "cell_type": "code",
   "execution_count": 29,
   "metadata": {},
   "outputs": [
    {
     "data": {
      "image/png": "[encoded data removed]",
      "text/plain": [
       "<Figure size 640x480 with 1 Axes>"
      ]
     },
     "metadata": {},
     "output_type": "display_data"
    }
   ],
   "source": [
    "plot_time_series(change_points, change_points, approx_change_points_PELT_bic)"
   ]
  },
  {
   "attachments": {},
   "cell_type": "markdown",
   "metadata": {},
   "source": [
    "## Complementario\n",
    "\n",
    "Una notable diferencia en ambos algoritmos es la capacidad de "
   ]
  },
  {
   "cell_type": "code",
   "execution_count": 39,
   "metadata": {},
   "outputs": [],
   "source": [
    "def gen_many_change_points(n, K, min_dist, r):\n",
    "\n",
    "    many_change_points = []    \n",
    "    for _ in range(r):\n",
    "        change_points = [0, n]\n",
    "        while len(change_points) < K + 2:\n",
    "            cp = random.randint(0,n-1)\n",
    "            cp_valid = True\n",
    "            for point in change_points:\n",
    "                if abs(cp - point) <= min_dist:\n",
    "                    cp_valid = False\n",
    "                    break\n",
    "            if cp_valid:\n",
    "                change_points.append(cp)\n",
    "        change_points = change_points[2:]\n",
    "        change_points.sort()\n",
    "        many_change_points.append(change_points)\n",
    "    return many_change_points"
   ]
  },
  {
   "cell_type": "code",
   "execution_count": 41,
   "metadata": {},
   "outputs": [],
   "source": [
    "# many_change_points = {}\n",
    "# for i in range(100, 3001, 20):\n",
    "#     many_change_points[i] = gen_many_change_points(i,3,15,10)\n",
    "# \n",
    "# with open('many_change_points_to_simulate.json', 'w') as fp:\n",
    "#     json.dump(many_change_points, fp)\n",
    "\n",
    "with open('many_change_points_to_simulate.json', 'r') as fp:\n",
    "    many_change_points = json.load(fp)"
   ]
  },
  {
   "cell_type": "code",
   "execution_count": 42,
   "metadata": {},
   "outputs": [],
   "source": [
    "func_OP = lambda time_series: OptimalPartition(time_series, cost_funtion_exp, 3)\n",
    "func_PELT = lambda time_series: PELT(time_series, cost_funtion_exp, n_min=10)"
   ]
  },
  {
   "cell_type": "code",
   "execution_count": 50,
   "metadata": {},
   "outputs": [],
   "source": [
    "def run_simulations(interval, many_change_points, distributions):\n",
    "\n",
    "    results_change_points_OP = []\n",
    "    results_times_OP = []\n",
    "\n",
    "    results_change_points_PELT = []\n",
    "    results_times_PELT = []\n",
    "\n",
    "    for change_points in many_change_points:\n",
    "        time_serie = generate_time_series(interval, change_points, distributions)\n",
    "\n",
    "        time_OP_start = time()\n",
    "        change_points_OP = list(map(int, OptimalPartition(time_serie, cost_funtion_exp, 3)))\n",
    "        time_OP_end = time()\n",
    "\n",
    "        results_change_points_OP.append(change_points_OP)\n",
    "        results_times_OP.append(time_OP_end - time_OP_start)\n",
    "\n",
    "        time_PELT_start = time()\n",
    "        change_points_PELT = list(map(int, PELT(time_serie, cost_funtion_exp, n_min=10)))\n",
    "        time_PELT_end = time()\n",
    "\n",
    "        results_change_points_PELT.append(change_points_PELT)\n",
    "        results_times_PELT.append(time_PELT_end - time_PELT_start)\n",
    "\n",
    "    return results_change_points_OP, results_times_OP, results_change_points_PELT, results_times_PELT"
   ]
  },
  {
   "cell_type": "code",
   "execution_count": 60,
   "metadata": {},
   "outputs": [],
   "source": [
    "empty = {}\n",
    "\n",
    "with open('results_cps_OP.json', 'w') as fp:\n",
    "    json.dump(empty, fp)\n",
    "with open('results_times_OP.json', 'w') as fp:\n",
    "    json.dump(empty, fp)\n",
    "with open('results_cps_PELT.json', 'w') as fp:\n",
    "    json.dump(empty, fp)\n",
    "with open('results_times_PELT.json', 'w') as fp:\n",
    "    json.dump(empty, fp)"
   ]
  },
  {
   "cell_type": "code",
   "execution_count": 62,
   "metadata": {},
   "outputs": [],
   "source": [
    "def get_results(many_change_points, n_from=100):\n",
    "\n",
    "    for n, list_change_points in many_change_points.items():\n",
    "        if int(n) < n_from:\n",
    "            continue\n",
    "        cps_OP, times_OP, cps_PELT, times_PELT = run_simulations((0,int(n)), list_change_points, [exp_1, exp_5, exp_1, exp_4])\n",
    "        #############################################\n",
    "        with open('results_cps_OP.json', 'r') as fp:\n",
    "            old_cps_OP = json.load(fp)\n",
    "            old_cps_OP[n] = cps_OP\n",
    "        with open('results_cps_OP.json', 'w') as fp:\n",
    "            json.dump(old_cps_OP, fp)\n",
    "        #############################################\n",
    "        with open('results_times_OP.json', 'r') as fp:\n",
    "            old_times_OP = json.load(fp)\n",
    "            old_times_OP[n] = times_OP\n",
    "        with open('results_times_OP.json', 'w') as fp:\n",
    "            json.dump(old_times_OP, fp)\n",
    "        #############################################\n",
    "        with open('results_cps_PELT.json', 'r') as fp:\n",
    "            old_cps_PELT = json.load(fp)\n",
    "            old_cps_PELT[n] = cps_PELT\n",
    "        with open('results_cps_PELT.json', 'w') as fp:\n",
    "            json.dump(old_cps_PELT, fp)\n",
    "        #############################################\n",
    "        with open('results_times_PELT.json', 'r') as fp:\n",
    "            old_times_PELT = json.load(fp)\n",
    "            old_times_PELT[n] = times_PELT\n",
    "        with open('results_times_PELT.json', 'w') as fp:\n",
    "            json.dump(old_times_PELT, fp)"
   ]
  },
  {
   "cell_type": "code",
   "execution_count": 58,
   "metadata": {},
   "outputs": [
    {
     "ename": "KeyboardInterrupt",
     "evalue": "",
     "output_type": "error",
     "traceback": [
      "\u001b[0;31m---------------------------------------------------------------------------\u001b[0m",
      "\u001b[0;31mKeyboardInterrupt\u001b[0m                         Traceback (most recent call last)",
      "\u001b[0;32m/tmp/ipykernel_5201/267787864.py\u001b[0m in \u001b[0;36m<module>\u001b[0;34m\u001b[0m\n\u001b[0;32m----> 1\u001b[0;31m \u001b[0mget_results\u001b[0m\u001b[0;34m(\u001b[0m\u001b[0mmany_change_points\u001b[0m\u001b[0;34m,\u001b[0m \u001b[0;36m160\u001b[0m\u001b[0;34m)\u001b[0m\u001b[0;34m\u001b[0m\u001b[0;34m\u001b[0m\u001b[0m\n\u001b[0m",
      "\u001b[0;32m/tmp/ipykernel_5201/410288251.py\u001b[0m in \u001b[0;36mget_results\u001b[0;34m(many_change_points, n_from)\u001b[0m\n\u001b[1;32m     12\u001b[0m             \u001b[0mjson\u001b[0m\u001b[0;34m.\u001b[0m\u001b[0mdump\u001b[0m\u001b[0;34m(\u001b[0m\u001b[0mold_cps_OP\u001b[0m\u001b[0;34m,\u001b[0m \u001b[0mfp\u001b[0m\u001b[0;34m)\u001b[0m\u001b[0;34m\u001b[0m\u001b[0;34m\u001b[0m\u001b[0m\n\u001b[1;32m     13\u001b[0m         \u001b[0;31m#############################################\u001b[0m\u001b[0;34m\u001b[0m\u001b[0;34m\u001b[0m\u001b[0m\n\u001b[0;32m---> 14\u001b[0;31m         \u001b[0;32mwith\u001b[0m \u001b[0mopen\u001b[0m\u001b[0;34m(\u001b[0m\u001b[0;34m'results_times_OP.json'\u001b[0m\u001b[0;34m,\u001b[0m \u001b[0;34m'r'\u001b[0m\u001b[0;34m)\u001b[0m \u001b[0;32mas\u001b[0m \u001b[0mfp\u001b[0m\u001b[0;34m:\u001b[0m\u001b[0;34m\u001b[0m\u001b[0;34m\u001b[0m\u001b[0m\n\u001b[0m\u001b[1;32m     15\u001b[0m             \u001b[0mold_times_OP\u001b[0m \u001b[0;34m=\u001b[0m \u001b[0mjson\u001b[0m\u001b[0;34m.\u001b[0m\u001b[0mload\u001b[0m\u001b[0;34m(\u001b[0m\u001b[0mfp\u001b[0m\u001b[0;34m)\u001b[0m\u001b[0;34m\u001b[0m\u001b[0;34m\u001b[0m\u001b[0m\n\u001b[1;32m     16\u001b[0m             \u001b[0mold_times_OP\u001b[0m\u001b[0;34m[\u001b[0m\u001b[0mn\u001b[0m\u001b[0;34m]\u001b[0m \u001b[0;34m=\u001b[0m \u001b[0mtimes_OP\u001b[0m\u001b[0;34m\u001b[0m\u001b[0;34m\u001b[0m\u001b[0m\n",
      "\u001b[0;32m/tmp/ipykernel_5201/410288251.py\u001b[0m in \u001b[0;36mget_results\u001b[0;34m(many_change_points, n_from)\u001b[0m\n\u001b[1;32m     12\u001b[0m             \u001b[0mjson\u001b[0m\u001b[0;34m.\u001b[0m\u001b[0mdump\u001b[0m\u001b[0;34m(\u001b[0m\u001b[0mold_cps_OP\u001b[0m\u001b[0;34m,\u001b[0m \u001b[0mfp\u001b[0m\u001b[0;34m)\u001b[0m\u001b[0;34m\u001b[0m\u001b[0;34m\u001b[0m\u001b[0m\n\u001b[1;32m     13\u001b[0m         \u001b[0;31m#############################################\u001b[0m\u001b[0;34m\u001b[0m\u001b[0;34m\u001b[0m\u001b[0m\n\u001b[0;32m---> 14\u001b[0;31m         \u001b[0;32mwith\u001b[0m \u001b[0mopen\u001b[0m\u001b[0;34m(\u001b[0m\u001b[0;34m'results_times_OP.json'\u001b[0m\u001b[0;34m,\u001b[0m \u001b[0;34m'r'\u001b[0m\u001b[0;34m)\u001b[0m \u001b[0;32mas\u001b[0m \u001b[0mfp\u001b[0m\u001b[0;34m:\u001b[0m\u001b[0;34m\u001b[0m\u001b[0;34m\u001b[0m\u001b[0m\n\u001b[0m\u001b[1;32m     15\u001b[0m             \u001b[0mold_times_OP\u001b[0m \u001b[0;34m=\u001b[0m \u001b[0mjson\u001b[0m\u001b[0;34m.\u001b[0m\u001b[0mload\u001b[0m\u001b[0;34m(\u001b[0m\u001b[0mfp\u001b[0m\u001b[0;34m)\u001b[0m\u001b[0;34m\u001b[0m\u001b[0;34m\u001b[0m\u001b[0m\n\u001b[1;32m     16\u001b[0m             \u001b[0mold_times_OP\u001b[0m\u001b[0;34m[\u001b[0m\u001b[0mn\u001b[0m\u001b[0;34m]\u001b[0m \u001b[0;34m=\u001b[0m \u001b[0mtimes_OP\u001b[0m\u001b[0;34m\u001b[0m\u001b[0;34m\u001b[0m\u001b[0m\n",
      "\u001b[0;32m_pydevd_bundle/pydevd_cython.pyx\u001b[0m in \u001b[0;36m_pydevd_bundle.pydevd_cython.SafeCallWrapper.__call__\u001b[0;34m()\u001b[0m\n",
      "\u001b[0;32m_pydevd_bundle/pydevd_cython.pyx\u001b[0m in \u001b[0;36m_pydevd_bundle.pydevd_cython.PyDBFrame.trace_dispatch\u001b[0;34m()\u001b[0m\n",
      "\u001b[0;32m_pydevd_bundle/pydevd_cython.pyx\u001b[0m in \u001b[0;36m_pydevd_bundle.pydevd_cython.PyDBFrame.trace_dispatch\u001b[0;34m()\u001b[0m\n",
      "\u001b[0;32m_pydevd_bundle/pydevd_cython.pyx\u001b[0m in \u001b[0;36m_pydevd_bundle.pydevd_cython.PyDBFrame.trace_dispatch\u001b[0;34m()\u001b[0m\n",
      "\u001b[0;32m_pydevd_bundle/pydevd_cython.pyx\u001b[0m in \u001b[0;36m_pydevd_bundle.pydevd_cython.PyDBFrame.do_wait_suspend\u001b[0;34m()\u001b[0m\n",
      "\u001b[0;32m~/anaconda3/lib/python3.9/site-packages/debugpy/_vendored/pydevd/pydevd.py\u001b[0m in \u001b[0;36mdo_wait_suspend\u001b[0;34m(self, thread, frame, event, arg, exception_type)\u001b[0m\n\u001b[1;32m   1974\u001b[0m \u001b[0;34m\u001b[0m\u001b[0m\n\u001b[1;32m   1975\u001b[0m             \u001b[0;32mwith\u001b[0m \u001b[0mself\u001b[0m\u001b[0;34m.\u001b[0m\u001b[0m_threads_suspended_single_notification\u001b[0m\u001b[0;34m.\u001b[0m\u001b[0mnotify_thread_suspended\u001b[0m\u001b[0;34m(\u001b[0m\u001b[0mthread_id\u001b[0m\u001b[0;34m,\u001b[0m \u001b[0mstop_reason\u001b[0m\u001b[0;34m)\u001b[0m\u001b[0;34m:\u001b[0m\u001b[0;34m\u001b[0m\u001b[0;34m\u001b[0m\u001b[0m\n\u001b[0;32m-> 1976\u001b[0;31m                 \u001b[0mkeep_suspended\u001b[0m \u001b[0;34m=\u001b[0m \u001b[0mself\u001b[0m\u001b[0;34m.\u001b[0m\u001b[0m_do_wait_suspend\u001b[0m\u001b[0;34m(\u001b[0m\u001b[0mthread\u001b[0m\u001b[0;34m,\u001b[0m \u001b[0mframe\u001b[0m\u001b[0;34m,\u001b[0m \u001b[0mevent\u001b[0m\u001b[0;34m,\u001b[0m \u001b[0marg\u001b[0m\u001b[0;34m,\u001b[0m \u001b[0msuspend_type\u001b[0m\u001b[0;34m,\u001b[0m \u001b[0mfrom_this_thread\u001b[0m\u001b[0;34m,\u001b[0m \u001b[0mframes_tracker\u001b[0m\u001b[0;34m)\u001b[0m\u001b[0;34m\u001b[0m\u001b[0;34m\u001b[0m\u001b[0m\n\u001b[0m\u001b[1;32m   1977\u001b[0m \u001b[0;34m\u001b[0m\u001b[0m\n\u001b[1;32m   1978\u001b[0m         \u001b[0mframes_list\u001b[0m \u001b[0;34m=\u001b[0m \u001b[0;32mNone\u001b[0m\u001b[0;34m\u001b[0m\u001b[0;34m\u001b[0m\u001b[0m\n",
      "\u001b[0;32m~/anaconda3/lib/python3.9/site-packages/debugpy/_vendored/pydevd/pydevd.py\u001b[0m in \u001b[0;36m_do_wait_suspend\u001b[0;34m(self, thread, frame, event, arg, suspend_type, from_this_thread, frames_tracker)\u001b[0m\n\u001b[1;32m   2009\u001b[0m \u001b[0;34m\u001b[0m\u001b[0m\n\u001b[1;32m   2010\u001b[0m             \u001b[0mself\u001b[0m\u001b[0;34m.\u001b[0m\u001b[0mprocess_internal_commands\u001b[0m\u001b[0;34m(\u001b[0m\u001b[0;34m)\u001b[0m\u001b[0;34m\u001b[0m\u001b[0;34m\u001b[0m\u001b[0m\n\u001b[0;32m-> 2011\u001b[0;31m             \u001b[0mtime\u001b[0m\u001b[0;34m.\u001b[0m\u001b[0msleep\u001b[0m\u001b[0;34m(\u001b[0m\u001b[0;36m0.01\u001b[0m\u001b[0;34m)\u001b[0m\u001b[0;34m\u001b[0m\u001b[0;34m\u001b[0m\u001b[0m\n\u001b[0m\u001b[1;32m   2012\u001b[0m \u001b[0;34m\u001b[0m\u001b[0m\n\u001b[1;32m   2013\u001b[0m         \u001b[0mself\u001b[0m\u001b[0;34m.\u001b[0m\u001b[0mcancel_async_evaluation\u001b[0m\u001b[0;34m(\u001b[0m\u001b[0mget_current_thread_id\u001b[0m\u001b[0;34m(\u001b[0m\u001b[0mthread\u001b[0m\u001b[0;34m)\u001b[0m\u001b[0;34m,\u001b[0m \u001b[0mstr\u001b[0m\u001b[0;34m(\u001b[0m\u001b[0mid\u001b[0m\u001b[0;34m(\u001b[0m\u001b[0mframe\u001b[0m\u001b[0;34m)\u001b[0m\u001b[0;34m)\u001b[0m\u001b[0;34m)\u001b[0m\u001b[0;34m\u001b[0m\u001b[0;34m\u001b[0m\u001b[0m\n",
      "\u001b[0;31mKeyboardInterrupt\u001b[0m: "
     ]
    }
   ],
   "source": [
    "get_results(many_change_points)"
   ]
  }
 ],
 "metadata": {
  "kernelspec": {
   "display_name": "base",
   "language": "python",
   "name": "python3"
  },
  "language_info": {
   "codemirror_mode": {
    "name": "ipython",
    "version": 3
   },
   "file_extension": ".py",
   "mimetype": "text/x-python",
   "name": "python",
   "nbconvert_exporter": "python",
   "pygments_lexer": "ipython3",
   "version": "3.9.13"
  },
  "orig_nbformat": 4
 },
 "nbformat": 4,
 "nbformat_minor": 2
}
